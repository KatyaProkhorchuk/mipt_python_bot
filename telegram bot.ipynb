{
 "cells": [
  {
   "cell_type": "markdown",
   "id": "a2d56efc",
   "metadata": {},
   "source": [
    "# Telegram bot\n",
    "# ![](images/telegram.jpg)\n"
   ]
  },
  {
   "cell_type": "markdown",
   "id": "cd400ec0",
   "metadata": {},
   "source": [
    "#### Существует достаточно много различных библиотек для создания телеграм ботов, например:\n",
    "***\n",
    "- AIOGram - это довольно простой и полностью **асинхронный** фреймворк для Telegram Bot API, написанный на Python 3.7\n",
    "  \n",
    "  Документацию к данной библиотеке можно найти тут: https://docs.aiogram.dev/en/latest/\n",
    "  \n",
    "  Ссылка на репозиторий библиотеки https://github.com/aiogram/aiogram\n",
    "  \n",
    "***\n",
    "- python-telegram-bot - пакет python-telegram-bot предоставляет чистый интерфейс Python для Telegram Bot API. Он совместим с версиями Python 3.6+. В дополнение к чистой реализации API эта библиотека содержит ряд высокоуровневых классов, которые делают разработку ботов простой и понятной. Эти классы содержатся в модуле telegram.ext.\n",
    "\n",
    "    Ссылка на репозиторий библиотеки https://github.com/python-telegram-bot/python-telegram-bot\n",
    "    \n",
    "***\n",
    "    \n",
    "- Telepot - работает на Python 2.7 и Python 3. Для Python 3.5+ он также имеет **асинхронную** версию, основанную на asyncio.\n",
    "\n",
    "    Ссылка на репозиторий библиотеки https://github.com/nickoala/telepot\n",
    "\n",
    "***\n",
    "- telebot - хорошая и лёгкая библиотека для создания бота на python для telegram.\n",
    "    \n",
    "    Ссылка на репозиторий библиотеки https://github.com/tucnak/telebot\n",
    "    \n",
    "***    \n",
    "- twx.botapi - это python-интерфейс для Telegram bot API. Он поддерживает выполнение **синхронных** и **асинхронных** вызовов и преобразует ответ в пригодный для использования собственный объект python.\n",
    "\n",
    "    Ссылка на репозиторий библиотеки https://github.com/datamachine/twx.botapi\n",
    "    \n",
    "    Python version supported 2.7, 3.0, 3.1, 3.2, 3.3, 3.4, 3.5, 3.6\n",
    "\n",
    "    \n",
    "***\n",
    "- pyTelegramBotAPI - простая, но расширяемая реализация на Python для Telegram Bot API. Может быть как **синхронный**, так и **асинхронный**.Это мощный инструмент для вообще чего угодно. Автоматизация действий, работа с пользователями, онлайн-магазины, игры и тд. Поддержка Python 3.6-3.10\n",
    "\n",
    "    Ссылка на репозиторий библиотеки https://github.com/eternnoir/pyTelegramBotAPI\n",
    "    \n",
    "***\n",
    "#### В чем различия асинхронного бота от обычного?\n",
    "\n",
    "Представим что пользователи шлют через специальные клиенты telegram боту сообщение. Наш бот получает сообщение и приступает к выполнению заранее прописанной логики, которая как-то зависит от сообщения. На этом этапе telebot и например aiogram ничем не отличаются.\n",
    "\n",
    "Предположим, что нам потребовалось обратиться в БД для получения какой-то информации, что мы можем сделать?\n",
    "\n",
    "Послать запрос и просто ждать ответа. Тем временем очередь из входящих сообщений может копиться.\n",
    "Или же послать запрос и обрабатывать другое сообщение, но вернуться к этому позже, когда результат будет готов.\n",
    "В первом случае сообщение обрабатывается синхронно, во втором асинхронно. В этом проявляются ключевые различия.\n",
    "\n",
    "***\n",
    "Библиотеки значительно упрощают написание ботов в telegram, но так же мы можем написать бота и без использования готовых библиотек [Пример](https://habr.com/ru/company/kts/blog/598575)\n",
    "    "
   ]
  },
  {
   "cell_type": "markdown",
   "id": "5b17d075",
   "metadata": {},
   "source": [
    "### Polling и long polling\n",
    "Чат-боты должны получать уведомления от соцсети моментально. Они не могут проверять обновления каждую секунду, это неэффективно. Большинство ответов от сервера будут неинформативны, по типу \"Новых сообщений нет\".\n",
    "\n",
    "Такой подход, когда раз в n секунд опрашивается сторонний сервис, называется **polling**.\n",
    "\n",
    "# ![](images/polling.png)\n",
    "\n",
    "Чтобы сэкономить на ресурсах, можно использовать long polling. Он успроен так же, как и polling, с одним отличием: сервер дольше отвечает. При long polling сервер отвечает в двух случаях: или потому, что пришло новое сообщение, или потому, что соединение пора разрывать.\n",
    "\n",
    "У каждого запроса есть timeout(время, в течении которого нужно ответить). Если на запрос не ответили за это время, считается, что сервер не ответит вообще. Поэтому сервер смотрит на timeout и решает так:\n",
    "\n",
    "Если за это время не появится обновлений для клиента, я отвечу ему, что их нет.\n",
    "Если появятся, я отправлю ему обновления сразу, не дожидаясь таймаута.\n",
    "Чтобы реализовать long polling на стороне клиента, нужно выставить большой timeout: 30 или 60 секунд.\n",
    "\n",
    "# ![](images/long_polling.png)\n",
    " \n",
    "***\n",
    "Вот так выглядит polling со стороны клиента на Python:\n",
    "\n",
    "```python\n",
    "from time import sleep\n",
    "import requests\n",
    "\n",
    "while True:\n",
    "    response = requests.get(\"http://someurl.com\")\n",
    "    for message in response:\n",
    "        bot.answer(message)\n",
    "        sleep(1)\n",
    "```\n",
    "***\n",
    "А вот так выглядит long polling:\n",
    "\n",
    "```python\n",
    "import requests\n",
    "\n",
    "while True:\n",
    "    response = requests.get(\"http://someurl.com\", timeout=60)\n",
    "    for message in response:\n",
    "        bot.answer(message)\n",
    "```"
   ]
  },
  {
   "cell_type": "markdown",
   "id": "c04f6039",
   "metadata": {},
   "source": [
    "### Webhook\n",
    "\n",
    "Это понятие тесно связано с предыдущим\n",
    "\n",
    "**Polling** — это когда клиент всё время спришвает у сервера “есть что-нибудь новенькое?”, а сервер присылает события (например, новые сообщения) или пишет, что ничего не происходило. \n",
    "**Webhook** — это то же самое, только наоборот. Теперь если что-то случается (например, новое сообщение) — сервер сам сообщит об этом клиенту\n",
    "\n",
    "# ![](images/webhook.png)\n",
    "\n",
    "Рассмотрим эту схему чуть подробнее. Есть 2 основных действующих лица: клиент и сервер уведомлений. Как только вашему боту написал пользователь — сервер уведомлений шлёт вам JSON-объект, где указывает кто писал, что писал и тдругую информацию. Дальше клиент сам решает, как на это сообщение отреагировать. Он может прислать одно сообщение, может несколько, а может вообще промолчать. В конце он отвечает серверу “Ок, 200”(это значит что запрос обработан)\n",
    "\n",
    "Чтобы клиент мог писать в ответ, обычно создаётся отдельное API, где реализованы запросы на отправку сообщений и так далее. API и сервер уведомлений — это обычно одна та же соцсеть, просто разные микрсервисы. Один занимается только рассылкой уведомлений, другой — полноценное API для разработчиков.\n",
    "\n",
    "#### webhook или polling?\n",
    "Обе технологии занимаются одним и тем же: приносят вам сообщения о событиях. Тем не менее, между ними огромная разница: polling легко реализуется обычной библиотекой requests, в то время как для webhook обязательно нужен сайт, который будет принимать и обрабатывать запросы от сервера уведомлений.\n",
    "\n",
    "Взамен webhook снижает нагрузку на сеть: вы обмениваетесь сообщениями с сервером уведомлений только “по делу”, в то время как polling постоянно отправляет запрос на наличие новых сообщений.\n",
    "\n",
    "При этом вы не теряете мгновенность ответа, как при long polling, потому что сервер по-прежнему пишет вам сразу, как только ему написал пользователь."
   ]
  },
  {
   "cell_type": "markdown",
   "id": "260e0dca",
   "metadata": {},
   "source": [
    "#### Теперь попробуем реализовать телеграм бота с помощью библиотеки aiogram\n",
    "\n",
    "Для начала ее необходимо установить"
   ]
  },
  {
   "cell_type": "code",
   "execution_count": 9,
   "id": "ad3adcc5",
   "metadata": {},
   "outputs": [
    {
     "name": "stdout",
     "output_type": "stream",
     "text": [
      "Defaulting to user installation because normal site-packages is not writeable\n",
      "Collecting aiogram\n",
      "  Downloading aiogram-2.22.1-py3-none-any.whl (196 kB)\n",
      "\u001b[2K     \u001b[38;2;114;156;31m━━━━━━━━━━━━━━━━━━━━━━━━━━━━━━━━━━━━━━━\u001b[0m \u001b[32m196.3/196.3 KB\u001b[0m \u001b[31m1.0 MB/s\u001b[0m eta \u001b[36m0:00:00\u001b[0mm eta \u001b[36m0:00:01\u001b[0m[36m0:00:01\u001b[0m\n",
      "\u001b[?25hCollecting certifi>=2021.10.8\n",
      "  Downloading certifi-2022.6.15-py3-none-any.whl (160 kB)\n",
      "\u001b[2K     \u001b[38;2;114;156;31m━━━━━━━━━━━━━━━━━━━━━━━━━━━━━━━━━━━━━\u001b[0m \u001b[32m160.2/160.2 KB\u001b[0m \u001b[31m966.5 kB/s\u001b[0m eta \u001b[36m0:00:00\u001b[0m MB/s\u001b[0m eta \u001b[36m0:00:01\u001b[0m\n",
      "\u001b[?25hCollecting aiohttp<3.9.0,>=3.8.0\n",
      "  Downloading aiohttp-3.8.1-cp310-cp310-manylinux_2_5_x86_64.manylinux1_x86_64.manylinux_2_12_x86_64.manylinux2010_x86_64.whl (1.2 MB)\n",
      "\u001b[2K     \u001b[38;2;114;156;31m━━━━━━━━━━━━━━━━━━━━━━━━━━━━━━━━━━━━━━━━\u001b[0m \u001b[32m1.2/1.2 MB\u001b[0m \u001b[31m873.4 kB/s\u001b[0m eta \u001b[36m0:00:00\u001b[0meta \u001b[36m0:00:01\u001b[0m[36m0:00:01\u001b[0m\n",
      "\u001b[?25hCollecting Babel<2.10.0,>=2.9.1\n",
      "  Downloading Babel-2.9.1-py2.py3-none-any.whl (8.8 MB)\n",
      "\u001b[2K     \u001b[38;2;114;156;31m━━━━━━━━━━━━━━━━━━━━━━━━━━━━━━━━━━━━━━━━\u001b[0m \u001b[32m8.8/8.8 MB\u001b[0m \u001b[31m2.7 MB/s\u001b[0m eta \u001b[36m0:00:00\u001b[0mm eta \u001b[36m0:00:01\u001b[0m0:01\u001b[0m:01\u001b[0m\n",
      "\u001b[?25hCollecting multidict<7.0,>=4.5\n",
      "  Downloading multidict-6.0.2-cp310-cp310-manylinux_2_17_x86_64.manylinux2014_x86_64.whl (114 kB)\n",
      "\u001b[2K     \u001b[38;2;114;156;31m━━━━━━━━━━━━━━━━━━━━━━━━━━━━━━━━━━━━━━━\u001b[0m \u001b[32m114.5/114.5 KB\u001b[0m \u001b[31m1.4 MB/s\u001b[0m eta \u001b[36m0:00:00\u001b[0m[36m0:00:01\u001b[0m\n",
      "\u001b[?25hCollecting yarl<2.0,>=1.0\n",
      "  Downloading yarl-1.8.1-cp310-cp310-manylinux_2_17_x86_64.manylinux2014_x86_64.whl (263 kB)\n",
      "\u001b[2K     \u001b[38;2;114;156;31m━━━━━━━━━━━━━━━━━━━━━━━━━━━━━━━━━━━━━━━\u001b[0m \u001b[32m264.0/264.0 KB\u001b[0m \u001b[31m1.8 MB/s\u001b[0m eta \u001b[36m0:00:00\u001b[0m[31m3.1 MB/s\u001b[0m eta \u001b[36m0:00:01\u001b[0m\n",
      "\u001b[?25hCollecting aiosignal>=1.1.2\n",
      "  Downloading aiosignal-1.2.0-py3-none-any.whl (8.2 kB)\n",
      "Requirement already satisfied: attrs>=17.3.0 in ./.local/lib/python3.10/site-packages (from aiohttp<3.9.0,>=3.8.0->aiogram) (22.1.0)\n",
      "Collecting frozenlist>=1.1.1\n",
      "  Downloading frozenlist-1.3.1-cp310-cp310-manylinux_2_5_x86_64.manylinux1_x86_64.manylinux_2_17_x86_64.manylinux2014_x86_64.whl (149 kB)\n",
      "\u001b[2K     \u001b[38;2;114;156;31m━━━━━━━━━━━━━━━━━━━━━━━━━━━━━━━━━━━━━━━\u001b[0m \u001b[32m149.6/149.6 KB\u001b[0m \u001b[31m1.6 MB/s\u001b[0m eta \u001b[36m0:00:00\u001b[0m MB/s\u001b[0m eta \u001b[36m0:00:01\u001b[0m:01\u001b[0m\n",
      "\u001b[?25hCollecting charset-normalizer<3.0,>=2.0\n",
      "  Downloading charset_normalizer-2.1.1-py3-none-any.whl (39 kB)\n",
      "Collecting async-timeout<5.0,>=4.0.0a3\n",
      "  Downloading async_timeout-4.0.2-py3-none-any.whl (5.8 kB)\n",
      "Requirement already satisfied: pytz>=2015.7 in /usr/lib/python3/dist-packages (from Babel<2.10.0,>=2.9.1->aiogram) (2022.1)\n",
      "Requirement already satisfied: idna>=2.0 in /usr/lib/python3/dist-packages (from yarl<2.0,>=1.0->aiohttp<3.9.0,>=3.8.0->aiogram) (3.3)\n",
      "Installing collected packages: multidict, frozenlist, charset-normalizer, certifi, Babel, async-timeout, yarl, aiosignal, aiohttp, aiogram\n",
      "\u001b[33m  WARNING: The script normalizer is installed in '/home/katerina/.local/bin' which is not on PATH.\n",
      "  Consider adding this directory to PATH or, if you prefer to suppress this warning, use --no-warn-script-location.\u001b[0m\u001b[33m\n",
      "\u001b[0m\u001b[33m  WARNING: The script pybabel is installed in '/home/katerina/.local/bin' which is not on PATH.\n",
      "  Consider adding this directory to PATH or, if you prefer to suppress this warning, use --no-warn-script-location.\u001b[0m\u001b[33m\n",
      "\u001b[0mSuccessfully installed Babel-2.9.1 aiogram-2.22.1 aiohttp-3.8.1 aiosignal-1.2.0 async-timeout-4.0.2 certifi-2022.6.15 charset-normalizer-2.1.1 frozenlist-1.3.1 multidict-6.0.2 yarl-1.8.1\n",
      "Note: you may need to restart the kernel to use updated packages.\n"
     ]
    }
   ],
   "source": [
    "pip install -U aiogram"
   ]
  },
  {
   "cell_type": "markdown",
   "id": "50e0e81d",
   "metadata": {},
   "source": [
    "В качестве примера создадим телеграмм бота который будет приветствовать пользователя и в качестве ответа присылать ему полученное сообщение.\n",
    "\n",
    "Для начала создадим бота, для этого в поиске телеграмма находим **@BotFather**\n",
    "\n",
    "Теперь вводим команду /newbot. Затем вводим имя и юзернейм. Обратите внимание, что юзернейм должен оканчиваться на bot!\n",
    "\n",
    "# ![](images/example_1)\n",
    "\n",
    "Мы получили токен(его лучше хранить в отдельном файле, например congfig.py)"
   ]
  },
  {
   "cell_type": "code",
   "execution_count": 1,
   "id": "52c6d642",
   "metadata": {},
   "outputs": [],
   "source": [
    "TOKEN = \"5693758372:AAFn1OcVV5I-JWGW_hycqV-6Inoja6nHdKQ\""
   ]
  },
  {
   "cell_type": "markdown",
   "id": "1de32371",
   "metadata": {},
   "source": [
    "Что бы запустить нашего бота из jupyter-notebook выполним:"
   ]
  },
  {
   "cell_type": "code",
   "execution_count": 2,
   "id": "1b5c766b",
   "metadata": {
    "scrolled": true
   },
   "outputs": [
    {
     "name": "stdout",
     "output_type": "stream",
     "text": [
      "Defaulting to user installation because normal site-packages is not writeable\n",
      "Requirement already satisfied: nest_asyncio in /home/katerina/.local/lib/python3.10/site-packages (1.5.5)\n"
     ]
    }
   ],
   "source": [
    "!pip install nest_asyncio\n",
    "import nest_asyncio\n",
    "nest_asyncio.apply()"
   ]
  },
  {
   "cell_type": "markdown",
   "id": "4a7e216c",
   "metadata": {},
   "source": [
    "Теперь приступаем к редактированию файла bot.py. Для этого импортируем необходимые модули библиотеки aiogram и токен бота, а так же инициализируем объекты бота и диспетчера, а также импортируем токен из config.py\n",
    "```python\n",
    "    from config import TOKEN\n",
    "```"
   ]
  },
  {
   "cell_type": "code",
   "execution_count": 3,
   "id": "bc819048",
   "metadata": {},
   "outputs": [],
   "source": [
    "from aiogram import Bot, types\n",
    "from aiogram.dispatcher import Dispatcher\n",
    "from aiogram.utils import executor\n",
    "\n",
    "\n",
    "\n",
    "bot = Bot(token=TOKEN)\n",
    "dp = Dispatcher(bot)"
   ]
  },
  {
   "cell_type": "markdown",
   "id": "697aa99a",
   "metadata": {},
   "source": [
    "Команда, с которой начинается общение пользователя с ботом - **/start**. Поэтому давайте научим нашего бота реагировать на эту команду. Создаем message_handler и объявляем там функцию ответа"
   ]
  },
  {
   "cell_type": "code",
   "execution_count": 4,
   "id": "5ed71c3e",
   "metadata": {},
   "outputs": [],
   "source": [
    "@dp.message_handler(commands=['start'])\n",
    "async def process_start_command(message: types.Message):\n",
    "    await message.reply(\"Привет!\\n\")"
   ]
  },
  {
   "cell_type": "markdown",
   "id": "9f4d8224",
   "metadata": {},
   "source": [
    "Ещё в ботах принято создавать обработчик команды **/help**- вдруг пользователь заинтересуется возможностями бота.\n",
    "Создадим отдельный message_handler для этой команды"
   ]
  },
  {
   "cell_type": "code",
   "execution_count": 5,
   "id": "a2edee1a",
   "metadata": {},
   "outputs": [],
   "source": [
    "@dp.message_handler(commands=['help'])\n",
    "async def process_help_command(message: types.Message):\n",
    "    await message.reply(\"Напиши мне что-нибудь, и я повторю за тобой!\")"
   ]
  },
  {
   "cell_type": "markdown",
   "id": "0079e05e",
   "metadata": {},
   "source": [
    "Осталось сделать обработку текстового сообщения. Для этого пишем следующее:"
   ]
  },
  {
   "cell_type": "code",
   "execution_count": 6,
   "id": "78b7d83f",
   "metadata": {},
   "outputs": [],
   "source": [
    "@dp.message_handler()\n",
    "async def echo_message(msg: types.Message):\n",
    "    await bot.send_message(msg.from_user.id, msg.text)"
   ]
  },
  {
   "cell_type": "markdown",
   "id": "f2ef6bcb",
   "metadata": {},
   "source": [
    "Чтобы получать сообщения от серверов Telegram воспользуемся polling (постоянным опросом сервера на наличие новых обновлений)"
   ]
  },
  {
   "cell_type": "code",
   "execution_count": null,
   "id": "abd6083f",
   "metadata": {},
   "outputs": [],
   "source": [
    "# import asyncio\n",
    "executor.start_polling(dp)"
   ]
  },
  {
   "cell_type": "markdown",
   "id": "6a6804a4",
   "metadata": {},
   "source": [
    "\n",
    "# ![](images/example_2)\n"
   ]
  },
  {
   "cell_type": "code",
   "execution_count": null,
   "id": "3be63cf0",
   "metadata": {},
   "outputs": [],
   "source": []
  },
  {
   "cell_type": "code",
   "execution_count": null,
   "id": "88da52a1",
   "metadata": {},
   "outputs": [],
   "source": []
  }
 ],
 "metadata": {
  "kernelspec": {
   "display_name": "Python 3 (ipykernel)",
   "language": "python",
   "name": "python3"
  },
  "language_info": {
   "codemirror_mode": {
    "name": "ipython",
    "version": 3
   },
   "file_extension": ".py",
   "mimetype": "text/x-python",
   "name": "python",
   "nbconvert_exporter": "python",
   "pygments_lexer": "ipython3",
   "version": "3.10.4"
  }
 },
 "nbformat": 4,
 "nbformat_minor": 5
}
